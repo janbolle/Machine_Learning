{
  "nbformat": 4,
  "nbformat_minor": 0,
  "metadata": {
    "colab": {
      "name": "Untitled3.ipynb",
      "provenance": [],
      "authorship_tag": "ABX9TyOymqayGCLlaogj4ifq1OFW",
      "include_colab_link": true
    },
    "kernelspec": {
      "name": "python3",
      "display_name": "Python 3"
    }
  },
  "cells": [
    {
      "cell_type": "markdown",
      "metadata": {
        "id": "view-in-github",
        "colab_type": "text"
      },
      "source": [
        "<a href=\"https://colab.research.google.com/github/janbolle/Machine_Learning/blob/master/Untitled3.ipynb\" target=\"_parent\"><img src=\"https://colab.research.google.com/assets/colab-badge.svg\" alt=\"Open In Colab\"/></a>"
      ]
    },
    {
      "cell_type": "code",
      "metadata": {
        "id": "hVNf-8myEOgG"
      },
      "source": [
        ""
      ],
      "execution_count": null,
      "outputs": []
    },
    {
      "cell_type": "markdown",
      "metadata": {
        "id": "yPu_FwqrEQYo"
      },
      "source": [
        "\n",
        "When starting with Machine Learning and Deep Learning in particular the number of new vocabularies and concepts can be overwhelming. In this story we tackle this problem by implementing a linear neuron by our self.\n",
        "\n",
        "A linear neuron highly relates to the problem of linear regression, in fact the problem we try to solve is equal. We are applying gradient descent on our regression problem to get good weights $w_1$"
      ]
    },
    {
      "cell_type": "code",
      "metadata": {
        "id": "H-7_O0g5EPmD"
      },
      "source": [
        ""
      ],
      "execution_count": null,
      "outputs": []
    }
  ]
}